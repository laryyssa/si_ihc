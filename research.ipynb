{
 "cells": [
  {
   "cell_type": "code",
   "execution_count": 1,
   "metadata": {},
   "outputs": [],
   "source": [
    "import pandas as pd\n",
    "import matplotlib.pyplot as plt\n",
    "import seaborn as sns"
   ]
  },
  {
   "cell_type": "markdown",
   "metadata": {},
   "source": [
    "# *Dados*"
   ]
  },
  {
   "cell_type": "code",
   "execution_count": 2,
   "metadata": {},
   "outputs": [
    {
     "data": {
      "text/html": [
       "<div>\n",
       "<style scoped>\n",
       "    .dataframe tbody tr th:only-of-type {\n",
       "        vertical-align: middle;\n",
       "    }\n",
       "\n",
       "    .dataframe tbody tr th {\n",
       "        vertical-align: top;\n",
       "    }\n",
       "\n",
       "    .dataframe thead th {\n",
       "        text-align: right;\n",
       "    }\n",
       "</style>\n",
       "<table border=\"1\" class=\"dataframe\">\n",
       "  <thead>\n",
       "    <tr style=\"text-align: right;\">\n",
       "      <th></th>\n",
       "      <th>Carimbo de data/hora</th>\n",
       "      <th>Sabendo dessas informações, você consente que usemos seus dados aqui para uso exclusivo da nossa pesquisa acadêmica?</th>\n",
       "      <th>Marque a sua faixa etária:</th>\n",
       "      <th>Qual é o Campus do seu Curso?</th>\n",
       "      <th>Qual seu Curso de Graduação?</th>\n",
       "      <th>Qual período você esta cursando atualmente?</th>\n",
       "      <th>Você trabalha ou estagia?</th>\n",
       "      <th>Se você trabalha ou estagia, qual a sua modalidade de trabalho?</th>\n",
       "      <th>Você participa de algum projeto de extensão?</th>\n",
       "      <th>Caso não participe, aponte até 2 principais motivos</th>\n",
       "      <th>Selecione até 3 tipos de projetos ou atividades extracurriculares você mais se interessa</th>\n",
       "      <th>Classifique quanto a eficiência os meios para encontrar informações sobre oportunidades de projetos e de atividades extracurriculares [Sites da Proex]</th>\n",
       "      <th>Caso use outro meio, escreva-o abaixo</th>\n",
       "      <th>Você sente facilidade em se comunicar com professores e alunos de cursos de áreas diferentes?</th>\n",
       "      <th>Se existisse uma plataforma que divulgasse somente os projetos de extensão dentre diferentes cursos, você acredita que aumentaria a visibilidade dos projetos?</th>\n",
       "      <th>Qual o principal meio que você busca por informações sobre oportunidades de projetos e atividades extracurriculares? [Linha 2]</th>\n",
       "      <th>Classifique quanto a eficiência os meios para encontrar informações sobre oportunidades de projetos e de atividades extracurriculares [Contato diretamente com professor]</th>\n",
       "      <th>Classifique quanto a eficiência os meios para encontrar informações sobre oportunidades de projetos e de atividades extracurriculares [E-mails da coordenação]</th>\n",
       "      <th>Classifique quanto a eficiência os meios para encontrar informações sobre oportunidades de projetos e de atividades extracurriculares [Mural no prédio da faculdade]</th>\n",
       "      <th>Qual o principal meio que você busca por informações sobre oportunidades de projetos e atividades extracurriculares? [Linha 5]</th>\n",
       "    </tr>\n",
       "  </thead>\n",
       "  <tbody>\n",
       "    <tr>\n",
       "      <th>6</th>\n",
       "      <td>30/09/2023 15:07:01</td>\n",
       "      <td>Sim.</td>\n",
       "      <td>18 - 24 anos</td>\n",
       "      <td>Campus Niterói</td>\n",
       "      <td>Geografia - Licenciatura - Presencial</td>\n",
       "      <td>6º período</td>\n",
       "      <td>Sim, aproximadamente 20h semanais.</td>\n",
       "      <td>Presencial.</td>\n",
       "      <td>Sim, participo de um projeto voluntário (não p...</td>\n",
       "      <td>NaN</td>\n",
       "      <td>Projetos de pesquisa, Atividades culturais</td>\n",
       "      <td>Indiferente</td>\n",
       "      <td>Divulgação dos Diretórios Acadêmicos</td>\n",
       "      <td>Não, sinto dificuldade de me comunicar com ambos</td>\n",
       "      <td>Sim, bastante</td>\n",
       "      <td>NaN</td>\n",
       "      <td>Muito eficiente</td>\n",
       "      <td>Eficiente</td>\n",
       "      <td>Pouco eficiente</td>\n",
       "      <td>NaN</td>\n",
       "    </tr>\n",
       "    <tr>\n",
       "      <th>7</th>\n",
       "      <td>30/09/2023 15:16:03</td>\n",
       "      <td>Sim.</td>\n",
       "      <td>18 - 24 anos</td>\n",
       "      <td>Campus Niterói</td>\n",
       "      <td>Sistemas de Informação - Bacharelado - Presencial</td>\n",
       "      <td>1º período</td>\n",
       "      <td>Sim, aproximadamente 40h semanais.</td>\n",
       "      <td>Remoto.</td>\n",
       "      <td>Não participo, mas tenho interesse de particip...</td>\n",
       "      <td>Não consigo achar nenhum projeto, Piorizo outr...</td>\n",
       "      <td>Projetos de empreendedorismo</td>\n",
       "      <td>Eficiente</td>\n",
       "      <td>NaN</td>\n",
       "      <td>Sim, sinto facilidade de me comunicar com ambos</td>\n",
       "      <td>Sim, bastante</td>\n",
       "      <td>NaN</td>\n",
       "      <td>Eficiente</td>\n",
       "      <td>Muito eficiente</td>\n",
       "      <td>Indiferente</td>\n",
       "      <td>NaN</td>\n",
       "    </tr>\n",
       "    <tr>\n",
       "      <th>8</th>\n",
       "      <td>30/09/2023 15:25:01</td>\n",
       "      <td>Sim.</td>\n",
       "      <td>18 - 24 anos</td>\n",
       "      <td>Campus Niterói</td>\n",
       "      <td>Sistemas de Informação - Bacharelado - Presencial</td>\n",
       "      <td>2º período</td>\n",
       "      <td>Sim, aproximadamente 40h semanais.</td>\n",
       "      <td>Remoto.</td>\n",
       "      <td>Não participo, mas tenho interesse de particip...</td>\n",
       "      <td>Falta de tempo, Não consigo achar nenhum projeto</td>\n",
       "      <td>Projetos de pesquisa</td>\n",
       "      <td>Não se aplica</td>\n",
       "      <td>NaN</td>\n",
       "      <td>Não, sinto dificuldade de me comunicar com ambos</td>\n",
       "      <td>Sim, bastante</td>\n",
       "      <td>NaN</td>\n",
       "      <td>Eficiente</td>\n",
       "      <td>Pouco eficiente</td>\n",
       "      <td>Indiferente</td>\n",
       "      <td>NaN</td>\n",
       "    </tr>\n",
       "    <tr>\n",
       "      <th>9</th>\n",
       "      <td>30/09/2023 15:25:29</td>\n",
       "      <td>Sim.</td>\n",
       "      <td>18 - 24 anos</td>\n",
       "      <td>Campus Niterói</td>\n",
       "      <td>Sistemas de Informação - Bacharelado - Presencial</td>\n",
       "      <td>4º período</td>\n",
       "      <td>Sim, aproximadamente 40h semanais.</td>\n",
       "      <td>Remoto.</td>\n",
       "      <td>Não participo, mas tenho interesse de particip...</td>\n",
       "      <td>Não consigo achar nenhum projeto</td>\n",
       "      <td>Projetos de pesquisa, Projetos de empreendedor...</td>\n",
       "      <td>Eficiente</td>\n",
       "      <td>NaN</td>\n",
       "      <td>Sim, sinto facilidade de me comunicar com ambos</td>\n",
       "      <td>Sim, bastante</td>\n",
       "      <td>NaN</td>\n",
       "      <td>Eficiente</td>\n",
       "      <td>Muito eficiente</td>\n",
       "      <td>Eficiente</td>\n",
       "      <td>NaN</td>\n",
       "    </tr>\n",
       "    <tr>\n",
       "      <th>10</th>\n",
       "      <td>30/09/2023 15:27:02</td>\n",
       "      <td>Sim.</td>\n",
       "      <td>18 - 24 anos</td>\n",
       "      <td>Campus Niterói</td>\n",
       "      <td>Sistemas de Informação - Bacharelado - Presencial</td>\n",
       "      <td>9º período</td>\n",
       "      <td>Sim, aproximadamente 40h semanais.</td>\n",
       "      <td>Remoto.</td>\n",
       "      <td>Não participo e não tenho interesse no momento.</td>\n",
       "      <td>Falta de tempo, Não consigo achar nenhum projeto</td>\n",
       "      <td>Projetos de pesquisa</td>\n",
       "      <td>Indiferente</td>\n",
       "      <td>NaN</td>\n",
       "      <td>Não tenho costume de interagir com pessoas de ...</td>\n",
       "      <td>Sim, bastante</td>\n",
       "      <td>NaN</td>\n",
       "      <td>Muito eficiente</td>\n",
       "      <td>Muito eficiente</td>\n",
       "      <td>Indiferente</td>\n",
       "      <td>NaN</td>\n",
       "    </tr>\n",
       "  </tbody>\n",
       "</table>\n",
       "</div>"
      ],
      "text/plain": [
       "   Carimbo de data/hora   \n",
       "6   30/09/2023 15:07:01  \\\n",
       "7   30/09/2023 15:16:03   \n",
       "8   30/09/2023 15:25:01   \n",
       "9   30/09/2023 15:25:29   \n",
       "10  30/09/2023 15:27:02   \n",
       "\n",
       "   Sabendo dessas informações, você consente que usemos seus dados aqui para uso exclusivo da nossa pesquisa acadêmica?   \n",
       "6                                                Sim.                                                                    \\\n",
       "7                                                Sim.                                                                     \n",
       "8                                                Sim.                                                                     \n",
       "9                                                Sim.                                                                     \n",
       "10                                               Sim.                                                                     \n",
       "\n",
       "   Marque a sua faixa etária: Qual é o Campus do seu Curso?   \n",
       "6                18 - 24 anos                Campus Niterói  \\\n",
       "7                18 - 24 anos                Campus Niterói   \n",
       "8                18 - 24 anos                Campus Niterói   \n",
       "9                18 - 24 anos                Campus Niterói   \n",
       "10               18 - 24 anos                Campus Niterói   \n",
       "\n",
       "                         Qual seu Curso de Graduação?   \n",
       "6               Geografia - Licenciatura - Presencial  \\\n",
       "7   Sistemas de Informação - Bacharelado - Presencial   \n",
       "8   Sistemas de Informação - Bacharelado - Presencial   \n",
       "9   Sistemas de Informação - Bacharelado - Presencial   \n",
       "10  Sistemas de Informação - Bacharelado - Presencial   \n",
       "\n",
       "   Qual período você esta cursando atualmente?   \n",
       "6                                   6º período  \\\n",
       "7                                   1º período   \n",
       "8                                   2º período   \n",
       "9                                   4º período   \n",
       "10                                  9º período   \n",
       "\n",
       "             Você trabalha ou estagia?   \n",
       "6   Sim, aproximadamente 20h semanais.  \\\n",
       "7   Sim, aproximadamente 40h semanais.   \n",
       "8   Sim, aproximadamente 40h semanais.   \n",
       "9   Sim, aproximadamente 40h semanais.   \n",
       "10  Sim, aproximadamente 40h semanais.   \n",
       "\n",
       "   Se você trabalha ou estagia, qual a sua modalidade de trabalho?   \n",
       "6                                         Presencial.               \\\n",
       "7                                             Remoto.                \n",
       "8                                             Remoto.                \n",
       "9                                             Remoto.                \n",
       "10                                            Remoto.                \n",
       "\n",
       "         Você participa de algum projeto de extensão?   \n",
       "6   Sim, participo de um projeto voluntário (não p...  \\\n",
       "7   Não participo, mas tenho interesse de particip...   \n",
       "8   Não participo, mas tenho interesse de particip...   \n",
       "9   Não participo, mas tenho interesse de particip...   \n",
       "10    Não participo e não tenho interesse no momento.   \n",
       "\n",
       "   Caso não participe, aponte até 2 principais motivos   \n",
       "6                                                 NaN   \\\n",
       "7   Não consigo achar nenhum projeto, Piorizo outr...    \n",
       "8    Falta de tempo, Não consigo achar nenhum projeto    \n",
       "9                    Não consigo achar nenhum projeto    \n",
       "10   Falta de tempo, Não consigo achar nenhum projeto    \n",
       "\n",
       "   Selecione até 3 tipos de projetos ou atividades extracurriculares você mais se interessa   \n",
       "6          Projetos de pesquisa, Atividades culturais                                        \\\n",
       "7                        Projetos de empreendedorismo                                         \n",
       "8                                Projetos de pesquisa                                         \n",
       "9   Projetos de pesquisa, Projetos de empreendedor...                                         \n",
       "10                               Projetos de pesquisa                                         \n",
       "\n",
       "   Classifique quanto a eficiência os meios para encontrar informações sobre oportunidades de projetos e de atividades extracurriculares [Sites da Proex]   \n",
       "6                                         Indiferente                                                                                                      \\\n",
       "7                                           Eficiente                                                                                                       \n",
       "8                                       Não se aplica                                                                                                       \n",
       "9                                           Eficiente                                                                                                       \n",
       "10                                        Indiferente                                                                                                       \n",
       "\n",
       "   Caso use outro meio, escreva-o abaixo   \n",
       "6   Divulgação dos Diretórios Acadêmicos  \\\n",
       "7                                    NaN   \n",
       "8                                    NaN   \n",
       "9                                    NaN   \n",
       "10                                   NaN   \n",
       "\n",
       "   Você sente facilidade em se comunicar com professores e alunos de cursos de áreas diferentes?   \n",
       "6    Não, sinto dificuldade de me comunicar com ambos                                             \\\n",
       "7     Sim, sinto facilidade de me comunicar com ambos                                              \n",
       "8    Não, sinto dificuldade de me comunicar com ambos                                              \n",
       "9     Sim, sinto facilidade de me comunicar com ambos                                              \n",
       "10  Não tenho costume de interagir com pessoas de ...                                              \n",
       "\n",
       "   Se existisse uma plataforma que divulgasse somente os projetos de extensão dentre diferentes cursos, você acredita que aumentaria a visibilidade dos projetos?   \n",
       "6                                       Sim, bastante                                                                                                              \\\n",
       "7                                       Sim, bastante                                                                                                               \n",
       "8                                       Sim, bastante                                                                                                               \n",
       "9                                       Sim, bastante                                                                                                               \n",
       "10                                      Sim, bastante                                                                                                               \n",
       "\n",
       "    Qual o principal meio que você busca por informações sobre oportunidades de projetos e atividades extracurriculares? [Linha 2]   \n",
       "6                                                 NaN                                                                               \\\n",
       "7                                                 NaN                                                                                \n",
       "8                                                 NaN                                                                                \n",
       "9                                                 NaN                                                                                \n",
       "10                                                NaN                                                                                \n",
       "\n",
       "   Classifique quanto a eficiência os meios para encontrar informações sobre oportunidades de projetos e de atividades extracurriculares [Contato diretamente com professor]   \n",
       "6                                     Muito eficiente                                                                                                                         \\\n",
       "7                                           Eficiente                                                                                                                          \n",
       "8                                           Eficiente                                                                                                                          \n",
       "9                                           Eficiente                                                                                                                          \n",
       "10                                    Muito eficiente                                                                                                                          \n",
       "\n",
       "   Classifique quanto a eficiência os meios para encontrar informações sobre oportunidades de projetos e de atividades extracurriculares [E-mails da coordenação]   \n",
       "6                                           Eficiente                                                                                                              \\\n",
       "7                                     Muito eficiente                                                                                                               \n",
       "8                                     Pouco eficiente                                                                                                               \n",
       "9                                     Muito eficiente                                                                                                               \n",
       "10                                    Muito eficiente                                                                                                               \n",
       "\n",
       "   Classifique quanto a eficiência os meios para encontrar informações sobre oportunidades de projetos e de atividades extracurriculares [Mural no prédio da faculdade]   \n",
       "6                                     Pouco eficiente                                                                                                                    \\\n",
       "7                                         Indiferente                                                                                                                     \n",
       "8                                         Indiferente                                                                                                                     \n",
       "9                                           Eficiente                                                                                                                     \n",
       "10                                        Indiferente                                                                                                                     \n",
       "\n",
       "    Qual o principal meio que você busca por informações sobre oportunidades de projetos e atividades extracurriculares? [Linha 5]  \n",
       "6                                                 NaN                                                                               \n",
       "7                                                 NaN                                                                               \n",
       "8                                                 NaN                                                                               \n",
       "9                                                 NaN                                                                               \n",
       "10                                                NaN                                                                               "
      ]
     },
     "execution_count": 2,
     "metadata": {},
     "output_type": "execute_result"
    }
   ],
   "source": [
    "df = pd.read_csv('questionario_ihc.csv')\n",
    "df = df.dropna(how='all')\n",
    "df.head()"
   ]
  },
  {
   "cell_type": "markdown",
   "metadata": {},
   "source": [
    "## Colunas"
   ]
  },
  {
   "cell_type": "code",
   "execution_count": 3,
   "metadata": {},
   "outputs": [
    {
     "data": {
      "text/plain": [
       "Index(['Carimbo de data/hora',\n",
       "       'Sabendo dessas informações, você consente que usemos seus dados aqui para uso exclusivo da nossa pesquisa acadêmica?',\n",
       "       'Marque a sua faixa etária:', 'Qual é o Campus do seu Curso?',\n",
       "       'Qual seu Curso de Graduação?',\n",
       "       'Qual período você esta cursando atualmente?',\n",
       "       'Você trabalha ou estagia?',\n",
       "       'Se você trabalha ou estagia, qual a sua modalidade de trabalho?',\n",
       "       'Você participa de algum projeto de extensão?',\n",
       "       'Caso não participe, aponte até 2 principais motivos',\n",
       "       'Selecione até 3 tipos de projetos ou atividades extracurriculares você mais se interessa',\n",
       "       'Classifique quanto a eficiência os meios para encontrar informações sobre oportunidades de projetos e de atividades extracurriculares [Sites da Proex]',\n",
       "       'Caso use outro meio, escreva-o abaixo',\n",
       "       'Você sente facilidade em se comunicar com professores e alunos de cursos de áreas diferentes?',\n",
       "       'Se existisse uma plataforma que divulgasse somente os projetos de extensão dentre diferentes cursos, você acredita que aumentaria a visibilidade dos projetos?',\n",
       "       'Qual o principal meio que você busca por informações sobre oportunidades de projetos e atividades extracurriculares? [Linha 2]',\n",
       "       'Classifique quanto a eficiência os meios para encontrar informações sobre oportunidades de projetos e de atividades extracurriculares [Contato diretamente com professor]',\n",
       "       'Classifique quanto a eficiência os meios para encontrar informações sobre oportunidades de projetos e de atividades extracurriculares [E-mails da coordenação]',\n",
       "       'Classifique quanto a eficiência os meios para encontrar informações sobre oportunidades de projetos e de atividades extracurriculares [Mural no prédio da faculdade]',\n",
       "       'Qual o principal meio que você busca por informações sobre oportunidades de projetos e atividades extracurriculares? [Linha 5]'],\n",
       "      dtype='object')"
      ]
     },
     "execution_count": 3,
     "metadata": {},
     "output_type": "execute_result"
    }
   ],
   "source": [
    "df.columns"
   ]
  },
  {
   "cell_type": "code",
   "execution_count": 4,
   "metadata": {},
   "outputs": [],
   "source": [
    "novas_colunas = [\n",
    "    'data_hora', \n",
    "    'consentimento', \n",
    "    'idade', \n",
    "    'campus', \n",
    "    'curso', \n",
    "    'periodo',\n",
    "    'trabalha', \n",
    "    'modalidade_trabalho', \n",
    "    'participa_projeto',\n",
    "    'motivo_nao_participa_projeto', \n",
    "    'projetos_de_interese',\n",
    "    'eficiencia_proex', \n",
    "    'outro_meio_busca_projetos',\n",
    "    'facilidade_conversar_profs_alunos', \n",
    "    'plataforma_ajudaria',\n",
    "    'meio_busca_projetos', \n",
    "    'eficiencia_professor', \n",
    "    'eficiencia_email',\n",
    "    'eficiencia_mural', \n",
    "    'meio_busca_projetos_5'\n",
    "]"
   ]
  },
  {
   "cell_type": "code",
   "execution_count": 5,
   "metadata": {},
   "outputs": [],
   "source": [
    "df.columns = novas_colunas"
   ]
  },
  {
   "cell_type": "code",
   "execution_count": 6,
   "metadata": {},
   "outputs": [
    {
     "name": "stdout",
     "output_type": "stream",
     "text": [
      "Series([], Name: count, dtype: int64)\n",
      "Series([], Name: count, dtype: int64)\n"
     ]
    }
   ],
   "source": [
    "print(df['meio_busca_projetos'].value_counts())\n",
    "print(df['meio_busca_projetos_5'].value_counts())"
   ]
  },
  {
   "cell_type": "code",
   "execution_count": 7,
   "metadata": {},
   "outputs": [],
   "source": [
    "colunas_remover = ['meio_busca_projetos', 'meio_busca_projetos_5', 'consentimento', 'data_hora']\n",
    "\n",
    "df = df.drop(colunas_remover, axis=1)"
   ]
  },
  {
   "cell_type": "markdown",
   "metadata": {},
   "source": [
    "## Respostas"
   ]
  },
  {
   "cell_type": "code",
   "execution_count": 8,
   "metadata": {},
   "outputs": [
    {
     "name": "stdout",
     "output_type": "stream",
     "text": [
      "idade\n",
      "['18 - 24 anos' '25 - 34 anos' '35 - 44 anos' '45 - 54 anos']\n",
      "\n",
      "campus\n",
      "['Campus Niterói' 'Campus Rio das Ostras']\n",
      "\n",
      "curso\n",
      "['Geografia - Licenciatura - Presencial'\n",
      " 'Sistemas de Informação - Bacharelado - Presencial'\n",
      " 'Geografia - Bacharelado - Presencial'\n",
      " 'Ciências Econômicas - Bacharelado - Presencial'\n",
      " 'Ciência da Computação - Bacharelado - Presencial'\n",
      " 'Enfermagem - Bacharelado - Presencial'\n",
      " 'Tecnologia em Sistemas de Computação - Tecnológico - EAD (Educação a Distância)'\n",
      " 'Medicina - Bacharelado - Presencial'\n",
      " 'Engenharia de Recursos Hídricos e do Meio Ambiente - Bacharelado - Presencial'\n",
      " 'Engenharia Mecânica - Bacharelado - Presencial'\n",
      " 'Direito - Bacharelado - Presencial'\n",
      " 'Engenharia Elétrica - Bacharelado - Presencial'\n",
      " 'Processos Gerenciais - Tecnológico - Presencial'\n",
      " 'História - Licenciatura - Presencial'\n",
      " 'Estatística - Bacharelado - Presencial'\n",
      " 'Produção Cultural - Bacharelado - Presencial'\n",
      " 'Psicologia - Bacharelado - Presencial'\n",
      " 'Matemática - Licenciatura - Presencial']\n",
      "\n",
      "periodo\n",
      "['6º período' '1º período' '2º período' '4º período' '9º período'\n",
      " '5º período' 'Mais de 10 períodos' '10º período' '8º período'\n",
      " '7º período' '3º período']\n",
      "\n",
      "trabalha\n",
      "['Sim, aproximadamente 20h semanais.' 'Sim, aproximadamente 40h semanais.'\n",
      " 'Sim, aproximadamente 30h semanais.' 'Não.']\n",
      "\n",
      "modalidade_trabalho\n",
      "['Presencial.' 'Remoto.' 'Híbrido.' nan]\n",
      "\n",
      "participa_projeto\n",
      "['Sim, participo de um projeto voluntário (não possui bolsa).'\n",
      " 'Não participo, mas tenho interesse de participar de qualquer projeto (voluntário ou com bolsa).'\n",
      " 'Não participo e não tenho interesse no momento.'\n",
      " 'Sim, participo de um projeto de extensão com bolsa.'\n",
      " 'Não participo, mas tenho interesse somente em projetos com bolsa.']\n",
      "\n",
      "motivo_nao_participa_projeto\n",
      "[nan\n",
      " 'Não consigo achar nenhum projeto, Piorizo outras atividades no momento'\n",
      " 'Falta de tempo, Não consigo achar nenhum projeto'\n",
      " 'Não consigo achar nenhum projeto'\n",
      " 'Falta de tempo, Piorizo outras atividades no momento' 'Apenas não quero'\n",
      " 'Não tem projetos de meu interesse, Não consigo achar nenhum projeto'\n",
      " 'Não tem projetos de meu interesse, Já participei anteriormente'\n",
      " 'Piorizo outras atividades no momento, Apenas não quero'\n",
      " 'Não tem projetos de meu interesse, Piorizo outras atividades no momento'\n",
      " 'Piorizo outras atividades no momento' 'Falta de tempo'\n",
      " 'Não tem projetos de meu interesse'\n",
      " 'Não tem projetos de meu interesse, Poucos projetos com bolsa'\n",
      " 'Falta de tempo, Não tem projetos de meu interesse'\n",
      " 'Falta de tempo, Para concorrer a bolsas de alguns projetos, precisar estar em periodos mais avançados'\n",
      " 'Horário das aulas da faculdade não colabora, além dos projetos de extensão serem muito muito excassos.']\n",
      "\n",
      "projetos_de_interese\n",
      "['Projetos de pesquisa, Atividades culturais'\n",
      " 'Projetos de empreendedorismo' 'Projetos de pesquisa'\n",
      " 'Projetos de pesquisa, Projetos de empreendedorismo'\n",
      " 'Projetos de serviço comunitário, Projetos de empreendedorismo'\n",
      " 'Não me interesso'\n",
      " 'Projetos de serviço comunitário, Projetos de pesquisa, Projetos de empreendedorismo'\n",
      " 'Projetos de serviço comunitário, Projetos de pesquisa'\n",
      " 'Projetos de pesquisa, Projetos de empreendedorismo, Times de competição'\n",
      " 'Atividades culturais, Projetos de empreendedorismo'\n",
      " 'Projetos de serviço comunitário, Projetos de pesquisa, Atividades culturais'\n",
      " 'Projetos de pesquisa, Atividades culturais, Projetos de empreendedorismo'\n",
      " 'Projetos de serviço comunitário, Atividades culturais'\n",
      " 'Atividades culturais' 'Nenhuma das anteriores'\n",
      " 'Projetos de serviço comunitário, Atividades culturais, Ensino. Ex. Poderia existir um projeto de extensão para ensino de computação básica para idosos ou crianças de escola pública.'\n",
      " 'Projetos de serviço comunitário, Atividades culturais, Projetos de empreendedorismo'\n",
      " 'Projetos de empreendedorismo, desenvolvimento de soluções com softwares']\n",
      "\n",
      "eficiencia_proex\n",
      "['Indiferente' 'Eficiente' 'Não se aplica' 'Nada eficiente'\n",
      " 'Pouco eficiente' 'Muito eficiente']\n",
      "\n",
      "outro_meio_busca_projetos\n",
      "['Divulgação dos Diretórios Acadêmicos' nan\n",
      " 'Contato com colegas que já participam de algo.'\n",
      " 'O WhatsApp do Dater é muito eficaz para esse propósito.'\n",
      " 'Lista de emails da UFF ; Telegram Oficial da UFF'\n",
      " 'Instagram, divulgação em sala de aula, atividades voltadas para divulgar os projetos '\n",
      " 'grupos whatsapp/telegram'\n",
      " 'Atualmente, fico mais atenta à e-mails e grupos em rede social que circulam informações acadêmicas'\n",
      " 'Instagram' 'Por meio da própria divulgação do projeto em redes sociais']\n",
      "\n",
      "facilidade_conversar_profs_alunos\n",
      "['Não, sinto dificuldade de me comunicar com ambos'\n",
      " 'Sim, sinto facilidade de me comunicar com ambos'\n",
      " 'Não tenho costume de interagir com pessoas de outras áreas'\n",
      " 'Sim, mas somente com os alunos' 'Sim, mas somente com os professores']\n",
      "\n",
      "plataforma_ajudaria\n",
      "['Sim, bastante' 'Indiferente' 'Sim, um pouco']\n",
      "\n",
      "eficiencia_professor\n",
      "['Muito eficiente' 'Eficiente' 'Não se aplica' 'Nada eficiente'\n",
      " 'Pouco eficiente' 'Indiferente']\n",
      "\n",
      "eficiencia_email\n",
      "['Eficiente' 'Muito eficiente' 'Pouco eficiente' 'Indiferente'\n",
      " 'Não se aplica' 'Nada eficiente']\n",
      "\n",
      "eficiencia_mural\n",
      "['Pouco eficiente' 'Indiferente' 'Eficiente' 'Muito eficiente'\n",
      " 'Nada eficiente' 'Não se aplica']\n",
      "\n"
     ]
    }
   ],
   "source": [
    "for c in df.columns:\n",
    "        print(c)\n",
    "        print(df[c].unique())\n",
    "        print()"
   ]
  },
  {
   "cell_type": "code",
   "execution_count": 9,
   "metadata": {},
   "outputs": [
    {
     "data": {
      "text/plain": [
       "array([nan,\n",
       "       'Não consigo achar nenhum projeto, Piorizo outras atividades no momento',\n",
       "       'Falta de tempo, Não consigo achar nenhum projeto',\n",
       "       'Não consigo achar nenhum projeto',\n",
       "       'Falta de tempo, Piorizo outras atividades no momento',\n",
       "       'Apenas não quero',\n",
       "       'Não tem projetos de meu interesse, Não consigo achar nenhum projeto',\n",
       "       'Não tem projetos de meu interesse, Já participei anteriormente',\n",
       "       'Piorizo outras atividades no momento, Apenas não quero',\n",
       "       'Não tem projetos de meu interesse, Piorizo outras atividades no momento',\n",
       "       'Piorizo outras atividades no momento', 'Falta de tempo',\n",
       "       'Não tem projetos de meu interesse',\n",
       "       'Não tem projetos de meu interesse, Poucos projetos com bolsa',\n",
       "       'Falta de tempo, Não tem projetos de meu interesse',\n",
       "       'Falta de tempo, Para concorrer a bolsas de alguns projetos, precisar estar em periodos mais avançados',\n",
       "       'Horário das aulas da faculdade não colabora, além dos projetos de extensão serem muito muito excassos.'],\n",
       "      dtype=object)"
      ]
     },
     "execution_count": 9,
     "metadata": {},
     "output_type": "execute_result"
    }
   ],
   "source": [
    "df['motivo_nao_participa_projeto'].unique()"
   ]
  },
  {
   "cell_type": "code",
   "execution_count": 10,
   "metadata": {},
   "outputs": [
    {
     "data": {
      "text/plain": [
       "array(['Sim, com bolsa', 'Não, quero qualquer um', 'Não, e não quero',\n",
       "       'Não, quero com bolsa'], dtype=object)"
      ]
     },
     "execution_count": 10,
     "metadata": {},
     "output_type": "execute_result"
    }
   ],
   "source": [
    "novas_respostas_participa_projeto = {'Sim, participo de um projeto voluntário (não possui bolsa).' : 'Sim, com bolsa',\n",
    " 'Não participo, mas tenho interesse de participar de qualquer projeto (voluntário ou com bolsa).' : 'Não, quero qualquer um',\n",
    " 'Não participo e não tenho interesse no momento.': 'Não, e não quero',\n",
    " 'Sim, participo de um projeto de extensão com bolsa.': 'Sim, com bolsa',\n",
    " 'Não participo, mas tenho interesse somente em projetos com bolsa.' : 'Não, quero com bolsa',\n",
    " 'Não participo, mas tenho interesse somente em projetos voluntários.': 'Não, quero voluntario'}\n",
    "\n",
    "df['participa_projeto'] = df['participa_projeto'].replace(novas_respostas_participa_projeto)\n",
    "df['participa_projeto'].unique()"
   ]
  },
  {
   "cell_type": "code",
   "execution_count": 11,
   "metadata": {},
   "outputs": [
    {
     "data": {
      "text/plain": [
       "array(['Sim, 20h', 'Sim, 40h', 'Sim, 30h', 'Não.'], dtype=object)"
      ]
     },
     "execution_count": 11,
     "metadata": {},
     "output_type": "execute_result"
    }
   ],
   "source": [
    "novas_respostas_trabalha = {'Sim, aproximadamente 20h semanais.': 'Sim, 20h',\n",
    "                            'Sim, aproximadamente 40h semanais.': 'Sim, 40h',\n",
    "                            'Sim, aproximadamente 30h semanais.': 'Sim, 30h'}\n",
    "\n",
    "df['trabalha'] = df['trabalha'].replace(novas_respostas_trabalha)\n",
    "df['trabalha'].unique()"
   ]
  },
  {
   "cell_type": "code",
   "execution_count": 12,
   "metadata": {},
   "outputs": [
    {
     "data": {
      "text/plain": [
       "array(['dificuldade com ambos', 'facilidade com ambos', 'nenhum dos dois',\n",
       "       'somente alunos', 'somente professores'], dtype=object)"
      ]
     },
     "execution_count": 12,
     "metadata": {},
     "output_type": "execute_result"
    }
   ],
   "source": [
    "novas_respostas_facilidade_conversar_profs_alunos = {'Não, sinto dificuldade de me comunicar com ambos': 'dificuldade com ambos',\n",
    "                                            'Sim, sinto facilidade de me comunicar com ambos': 'facilidade com ambos',\n",
    "                                            'Não tenho costume de interagir com pessoas de outras áreas': 'nenhum dos dois',\n",
    "                                            'Sim, mas somente com os alunos': 'somente alunos',\n",
    "                                            'Sim, mas somente com os professores': 'somente professores'}\n",
    "\n",
    "df['facilidade_conversar_profs_alunos'] = df['facilidade_conversar_profs_alunos'].replace(novas_respostas_facilidade_conversar_profs_alunos)\n",
    "df['facilidade_conversar_profs_alunos'].unique()"
   ]
  },
  {
   "cell_type": "markdown",
   "metadata": {},
   "source": [
    "# *Perguntas*"
   ]
  },
  {
   "cell_type": "markdown",
   "metadata": {},
   "source": [
    "## Quantos dos alunos estão em projeto de extensão, trabalham X horas por dia?"
   ]
  },
  {
   "cell_type": "markdown",
   "metadata": {},
   "source": [
    "## Quem são os alunos que não estão fazendo projeto de extensão?"
   ]
  },
  {
   "cell_type": "code",
   "execution_count": 13,
   "metadata": {},
   "outputs": [
    {
     "data": {
      "text/plain": [
       "['Sim, com bolsa',\n",
       " 'Não, quero qualquer um',\n",
       " 'Não, e não quero',\n",
       " 'Não, quero com bolsa']"
      ]
     },
     "execution_count": 13,
     "metadata": {},
     "output_type": "execute_result"
    }
   ],
   "source": [
    "respostas_situacao_projeto = df['participa_projeto'].unique().tolist()\n",
    "respostas_situacao_projeto"
   ]
  },
  {
   "cell_type": "code",
   "execution_count": 14,
   "metadata": {},
   "outputs": [],
   "source": [
    "nao_fazem_projeto = df[(df['participa_projeto'] == respostas_situacao_projeto[1]) | (df['participa_projeto'] == respostas_situacao_projeto[2]) | (df['participa_projeto'] == respostas_situacao_projeto[3])]"
   ]
  },
  {
   "cell_type": "code",
   "execution_count": 15,
   "metadata": {},
   "outputs": [
    {
     "name": "stdout",
     "output_type": "stream",
     "text": [
      "idade                                59\n",
      "campus                               59\n",
      "curso                                59\n",
      "periodo                              59\n",
      "trabalha                             59\n",
      "modalidade_trabalho                  31\n",
      "participa_projeto                    59\n",
      "motivo_nao_participa_projeto         59\n",
      "projetos_de_interese                 59\n",
      "eficiencia_proex                     59\n",
      "outro_meio_busca_projetos             2\n",
      "facilidade_conversar_profs_alunos    59\n",
      "plataforma_ajudaria                  59\n",
      "eficiencia_professor                 59\n",
      "eficiencia_email                     59\n",
      "eficiencia_mural                     59\n",
      "dtype: int64\n"
     ]
    }
   ],
   "source": [
    "print(nao_fazem_projeto.count())\n"
   ]
  },
  {
   "cell_type": "code",
   "execution_count": 16,
   "metadata": {},
   "outputs": [
    {
     "data": {
      "text/plain": [
       "idade\n",
       "18 - 24 anos    48\n",
       "25 - 34 anos     9\n",
       "35 - 44 anos     1\n",
       "45 - 54 anos     1\n",
       "Name: count, dtype: int64"
      ]
     },
     "execution_count": 16,
     "metadata": {},
     "output_type": "execute_result"
    }
   ],
   "source": [
    "nao_fazem_projeto['idade'].value_counts()"
   ]
  },
  {
   "cell_type": "code",
   "execution_count": 17,
   "metadata": {},
   "outputs": [
    {
     "data": {
      "text/plain": [
       "trabalha\n",
       "Não.        28\n",
       "Sim, 40h    13\n",
       "Sim, 30h    12\n",
       "Sim, 20h     6\n",
       "Name: count, dtype: int64"
      ]
     },
     "execution_count": 17,
     "metadata": {},
     "output_type": "execute_result"
    }
   ],
   "source": [
    "nao_fazem_projeto['trabalha'].value_counts()"
   ]
  },
  {
   "cell_type": "markdown",
   "metadata": {},
   "source": [
    "## Quem são os alunos que estão fazendo projeto de extensão?"
   ]
  },
  {
   "cell_type": "code",
   "execution_count": 18,
   "metadata": {},
   "outputs": [
    {
     "data": {
      "image/png": "[encoded data removed]",
      "text/plain": [
       "<Figure size 1000x600 with 1 Axes>"
      ]
     },
     "metadata": {},
     "output_type": "display_data"
    }
   ],
   "source": [
    "plt.figure(figsize=(10,6))\n",
    "sns.histplot(data=df, x='trabalha', hue='participa_projeto',multiple=\"dodge\", shrink=0.7)\n",
    "plt.xlabel('Trabalha')\n",
    "plt.ylabel('Contagem')\n",
    "plt.title('Histograma de Trabalho vs. Participação em Projetos')\n",
    "plt.show()"
   ]
  },
  {
   "cell_type": "code",
   "execution_count": 19,
   "metadata": {},
   "outputs": [
    {
     "data": {
      "image/png": "[encoded data removed]",
      "text/plain": [
       "<Figure size 1000x600 with 1 Axes>"
      ]
     },
     "metadata": {},
     "output_type": "display_data"
    }
   ],
   "source": [
    "trabalha_sim = df[~df['trabalha'].str.contains('Não')]\n",
    "\n",
    "plt.figure(figsize=(10,6))\n",
    "sns.histplot(data=trabalha_sim, x='modalidade_trabalho', hue='participa_projeto',multiple=\"dodge\", shrink=0.7)\n",
    "plt.xlabel('modalidade de trabalho')\n",
    "plt.ylabel('Contagem')\n",
    "plt.title('Modalidade de Trabalho vs. Participação em Projetos')\n",
    "plt.show()"
   ]
  },
  {
   "cell_type": "code",
   "execution_count": 20,
   "metadata": {},
   "outputs": [
    {
     "data": {
      "image/png": "[encoded data removed]",
      "text/plain": [
       "<Figure size 1000x600 with 1 Axes>"
      ]
     },
     "metadata": {},
     "output_type": "display_data"
    }
   ],
   "source": [
    "plt.figure(figsize=(10,6))\n",
    "sns.histplot(data=df, x='idade', hue='participa_projeto',multiple=\"dodge\", shrink=0.7)\n",
    "plt.xlabel('Faixa Etária')\n",
    "plt.ylabel('Contagem')\n",
    "plt.title('Faixa Etária vs. Participação em Projetos')\n",
    "plt.show()"
   ]
  },
  {
   "cell_type": "code",
   "execution_count": 21,
   "metadata": {},
   "outputs": [
    {
     "data": {
      "text/plain": [
       "projetos_de_interese\n",
       "Projetos de pesquisa                                                                                                                                                                     14\n",
       "Projetos de serviço comunitário, Projetos de pesquisa, Atividades culturais                                                                                                              12\n",
       "Projetos de serviço comunitário, Projetos de pesquisa, Projetos de empreendedorismo                                                                                                      11\n",
       "Projetos de pesquisa, Atividades culturais                                                                                                                                               10\n",
       "Projetos de serviço comunitário, Projetos de pesquisa                                                                                                                                     7\n",
       "Projetos de empreendedorismo                                                                                                                                                              6\n",
       "Projetos de pesquisa, Projetos de empreendedorismo                                                                                                                                        5\n",
       "Projetos de pesquisa, Atividades culturais, Projetos de empreendedorismo                                                                                                                  5\n",
       "Nenhuma das anteriores                                                                                                                                                                    3\n",
       "Projetos de serviço comunitário, Projetos de empreendedorismo                                                                                                                             3\n",
       "Não me interesso                                                                                                                                                                          3\n",
       "Projetos de serviço comunitário, Atividades culturais, Projetos de empreendedorismo                                                                                                       3\n",
       "Atividades culturais                                                                                                                                                                      2\n",
       "Projetos de serviço comunitário, Atividades culturais, Ensino. Ex. Poderia existir um projeto de extensão para ensino de computação básica para idosos ou crianças de escola pública.     1\n",
       "Atividades culturais, Projetos de empreendedorismo                                                                                                                                        1\n",
       "Projetos de serviço comunitário, Atividades culturais                                                                                                                                     1\n",
       "Projetos de pesquisa, Projetos de empreendedorismo, Times de competição                                                                                                                   1\n",
       "Projetos de empreendedorismo, desenvolvimento de soluções com softwares                                                                                                                   1\n",
       "Name: count, dtype: int64"
      ]
     },
     "execution_count": 21,
     "metadata": {},
     "output_type": "execute_result"
    }
   ],
   "source": [
    "df['projetos_de_interese'].value_counts()"
   ]
  },
  {
   "cell_type": "code",
   "execution_count": 22,
   "metadata": {},
   "outputs": [
    {
     "data": {
      "text/plain": [
       "Index(['idade', 'campus', 'curso', 'periodo', 'trabalha',\n",
       "       'modalidade_trabalho', 'participa_projeto',\n",
       "       'motivo_nao_participa_projeto', 'projetos_de_interese',\n",
       "       'eficiencia_proex', 'outro_meio_busca_projetos',\n",
       "       'facilidade_conversar_profs_alunos', 'plataforma_ajudaria',\n",
       "       'eficiencia_professor', 'eficiencia_email', 'eficiencia_mural'],\n",
       "      dtype='object')"
      ]
     },
     "execution_count": 22,
     "metadata": {},
     "output_type": "execute_result"
    }
   ],
   "source": [
    "df.columns"
   ]
  }
 ],
 "metadata": {
  "kernelspec": {
   "display_name": "Python 3",
   "language": "python",
   "name": "python3"
  },
  "language_info": {
   "codemirror_mode": {
    "name": "ipython",
    "version": 3
   },
   "file_extension": ".py",
   "mimetype": "text/x-python",
   "name": "python",
   "nbconvert_exporter": "python",
   "pygments_lexer": "ipython3",
   "version": "3.10.3"
  },
  "orig_nbformat": 4
 },
 "nbformat": 4,
 "nbformat_minor": 2
}
